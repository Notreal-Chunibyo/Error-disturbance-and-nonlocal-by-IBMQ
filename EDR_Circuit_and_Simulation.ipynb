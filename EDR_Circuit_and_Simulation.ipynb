{
 "cells": [
  {
   "cell_type": "code",
   "execution_count": 2,
   "id": "dd547127-8be1-444c-8567-02a3992f6e00",
   "metadata": {},
   "outputs": [],
   "source": [
    "import numpy as np\n",
    "import qiskit\n",
    "import qiskit_aer\n",
    "import qiskit.visualization\n",
    "import matplotlib.pyplot as plt\n",
    "import matplotlib as mpl\n",
    "from datetime import datetime\n",
    "mpl.rcParams.update(mpl.rcParamsDefault)"
   ]
  },
  {
   "cell_type": "code",
   "execution_count": 3,
   "id": "bf57f0a0",
   "metadata": {},
   "outputs": [
    {
     "ename": "ModuleNotFoundError",
     "evalue": "No module named 'qiskit_ibm_provider'",
     "output_type": "error",
     "traceback": [
      "\u001b[1;31m---------------------------------------------------------------------------\u001b[0m",
      "\u001b[1;31mModuleNotFoundError\u001b[0m                       Traceback (most recent call last)",
      "Cell \u001b[1;32mIn[3], line 1\u001b[0m\n\u001b[1;32m----> 1\u001b[0m \u001b[38;5;28;01mimport\u001b[39;00m \u001b[38;5;21;01mqiskit_ibm_provider\u001b[39;00m\n\u001b[0;32m      2\u001b[0m ibmprovider \u001b[38;5;241m=\u001b[39m qiskit_ibm_provider\u001b[38;5;241m.\u001b[39mIBMProvider(token\u001b[38;5;241m=\u001b[39m\u001b[38;5;124m\"\u001b[39m\u001b[38;5;124m9e027ffd514fe6fe384a7c915db815287e72104e52daca921f8d7854d6362b39a127bad928fb2ddad1d85bf7434306ca01b5496e7fab340eef01b815df13d45f\u001b[39m\u001b[38;5;124m\"\u001b[39m, instance\u001b[38;5;241m=\u001b[39m\u001b[38;5;124m\"\u001b[39m\u001b[38;5;124mibm-q/open/main\u001b[39m\u001b[38;5;124m\"\u001b[39m)\n\u001b[0;32m      3\u001b[0m backend_sherbrooke \u001b[38;5;241m=\u001b[39m ibmprovider\u001b[38;5;241m.\u001b[39mget_backend(\u001b[38;5;124m'\u001b[39m\u001b[38;5;124mibm_sherbrooke\u001b[39m\u001b[38;5;124m'\u001b[39m)\n",
      "\u001b[1;31mModuleNotFoundError\u001b[0m: No module named 'qiskit_ibm_provider'"
     ]
    }
   ],
   "source": [
    "import qiskit_ibm_provider\n",
    "ibmprovider = qiskit_ibm_provider.IBMProvider(token=\"9e027ffd514fe6fe384a7c915db815287e72104e52daca921f8d7854d6362b39a127bad928fb2ddad1d85bf7434306ca01b5496e7fab340eef01b815df13d45f\", instance=\"ibm-q/open/main\")\n",
    "backend_sherbrooke = ibmprovider.get_backend('ibm_sherbrooke')\n",
    "backend_kyoto = ibmprovider.get_backend('ibm_kyoto')"
   ]
  },
  {
   "cell_type": "code",
   "execution_count": 13,
   "id": "f19a0171-f5a6-43fc-a19f-6949358956e5",
   "metadata": {
    "scrolled": true
   },
   "outputs": [],
   "source": [
    "from qiskit_ibm_runtime.fake_provider import FakePerth\n",
    "fakebackend = FakePerth()"
   ]
  },
  {
   "cell_type": "code",
   "execution_count": 14,
   "id": "9e4699eb-d2fb-457a-a404-e4c438503ce7",
   "metadata": {},
   "outputs": [],
   "source": [
    "def circmake(probe,groups,points,backend):\n",
    "    \n",
    "    circs=[] \n",
    "    j = 0\n",
    "    \n",
    "    while j <groups:\n",
    "        i = 0\n",
    "        while i<points:\n",
    "        \n",
    "            circ = qiskit.QuantumCircuit(qiskit.QuantumRegister(1, name=\"Meter_Z\"),\n",
    "                      qiskit.QuantumRegister(1, name=\"System\"),\n",
    "                      qiskit.QuantumRegister(1, name=\"Probe_X\"),\n",
    "                      qiskit.QuantumRegister(1, name=\"Probe_Z\"),\n",
    "                      qiskit.ClassicalRegister(4, name=\"readout\"))\n",
    "\n",
    "            mez=np.arccos(0.0+1/(points-1)*i)\n",
    "\n",
    "            circ.rz(-np.pi,1)\n",
    "            circ.sx(1)\n",
    "            circ.rz(-np.pi,1)\n",
    "            circ.barrier()\n",
    "\n",
    "            circ.rz(-np.pi,3)\n",
    "            circ.sx(3)\n",
    "            circ.rz(np.pi-np.arccos(probe),3)\n",
    "            circ.sx(3)\n",
    "\n",
    "            circ.cx(1,3)\n",
    "\n",
    "            circ.barrier()\n",
    "            circ.rz(np.pi/2,1)\n",
    "            circ.sx(1)\n",
    "            circ.rz(np.pi/2,1)\n",
    "\n",
    "            circ.rz(-np.pi,2)\n",
    "            circ.sx(2)\n",
    "            circ.rz(np.pi-np.arccos(probe),2)\n",
    "            circ.sx(2)\n",
    "\n",
    "            circ.cx(1,2)\n",
    "\n",
    "            circ.rz(np.pi/2,1)\n",
    "            circ.sx(1)\n",
    "            circ.rz(np.pi/2,1)\n",
    "\n",
    "            circ.barrier()\n",
    "            circ.rz(-np.pi,0)\n",
    "            circ.sx(0)\n",
    "            circ.rz(np.pi-mez,0)\n",
    "            circ.sx(0)\n",
    "\n",
    "            circ.cx(1,0)\n",
    "\n",
    "\n",
    "            circ.barrier()\n",
    "            circ.rz(np.pi/2,1)\n",
    "            circ.sx(1)\n",
    "            circ.rz(np.pi/2,1)\n",
    "    \n",
    "            circ.measure([0,1,2,3],[1,0,2,3])\n",
    "            circ=qiskit.compiler.transpile(circ,backend=backend,optimization_level=1)\n",
    "            circs.append(circ)\n",
    "            i += 1\n",
    "        j+= 1\n",
    "    \n",
    "    return circs"
   ]
  },
  {
   "cell_type": "code",
   "execution_count": 15,
   "id": "06d715f2-01cd-4dc3-bb47-3498bced40dd",
   "metadata": {},
   "outputs": [],
   "source": [
    "def make_noise_model(prob_1=None,prob_2=None,prob_r=None):\n",
    "    cnoise_model = qiskit_aer.noise.NoiseModel(basis_gates=['cx', 'delay', 'id', 'measure', 'reset', 'rz', 'sx', 'x'])\n",
    "    \n",
    "    if prob_1:\n",
    "        error_1 = qiskit_aer.noise.depolarizing_error(prob_1, 1)\n",
    "        cnoise_model.add_all_qubit_quantum_error(error_1, ['rz', 'sx', 'x',\"id\"])\n",
    "    \n",
    "    if prob_2:\n",
    "        error_2 = qiskit_aer.noise.depolarizing_error(prob_2, 2)\n",
    "        cnoise_model.add_all_qubit_quantum_error(error_2, ['cx'])\n",
    "    \n",
    "    if prob_r:\n",
    "        error_r = qiskit_aer.noise.ReadoutError(prob_r)\n",
    "        cnoise_model.add_all_qubit_readout_error(error_r)\n",
    "    \n",
    "    return cnoise_model"
   ]
  },
  {
   "cell_type": "code",
   "execution_count": 16,
   "id": "7d2f35a0",
   "metadata": {},
   "outputs": [],
   "source": [
    "def adjust_backend_noise_model(backend, phase=0, amplitude=0):\n",
    "    qnoise_model = qiskit_aer.noise.NoiseModel.from_backend(backend,temperature=50)\n",
    "    error_1 = qiskit_aer.noise.phase_amplitude_damping_error(phase, amplitude)\n",
    "    \n",
    "    m = backend.num_qubits\n",
    "    for n in np.linspace(0, m - 1, m, dtype=int) :\n",
    "        qnoise_model.add_quantum_error(error_1, ['rz', 'sx', 'x',\"id\"], [n])\n",
    "    del m\n",
    "    return qnoise_model"
   ]
  },
  {
   "cell_type": "code",
   "execution_count": 17,
   "id": "0dbec225-1303-4977-8eb6-eb8eccd6aade",
   "metadata": {},
   "outputs": [],
   "source": [
    "def get_ed(raw):\n",
    "    err_raw = qiskit.result.marginal_counts(raw,indices=[1,3]).get_counts()\n",
    "    dis_raw = qiskit.result.marginal_counts(raw,indices=[0,2]).get_counts()\n",
    "    error = np.zeros([groups,points])\n",
    "    i = 0\n",
    "    while i < groups:\n",
    "        j = 0\n",
    "        while j < points:\n",
    "            a = (np.sqrt(2*abs(1-(err_raw[i*points+j]['00']+err_raw[i*points+j]['11']-err_raw[i*points+j]['01']-err_raw[i*points+j]['10'])/shots/0.1)))\n",
    "            error[i][j] = a\n",
    "            j += 1\n",
    "        i += 1\n",
    "    \n",
    "    disturb = np.zeros([groups,points])\n",
    "    i = 0\n",
    "    while i < groups:\n",
    "        j = 0\n",
    "        while j < points:\n",
    "            a = (np.sqrt(2*abs(1-(dis_raw[i*points+j]['00']+dis_raw[i*points+j]['11']-dis_raw[i*points+j]['01']-dis_raw[i*points+j]['10'])/shots/0.1)))\n",
    "            disturb[i][j] = a\n",
    "            j += 1\n",
    "        i += 1\n",
    "    return error.transpose(), disturb.transpose()"
   ]
  },
  {
   "cell_type": "code",
   "execution_count": 18,
   "id": "4a831aac-49e8-4725-abce-6d56add1e850",
   "metadata": {},
   "outputs": [],
   "source": [
    "def get_plot_data(raw_error,raw_disturb,points):\n",
    "    result = np.zeros([4,points]) \n",
    "    i = 0\n",
    "    while i <points :\n",
    "        result[0,i]= (np.sum(raw_error[i])-np.max(raw_error[i])-np.min(raw_error[i]))/(groups-2)\n",
    "        result[2,i]= (np.sum(raw_disturb[i])-np.max(raw_disturb[i])-np.min(raw_disturb[i]))/(groups-2)\n",
    "        #result[0,i]= np.mean(raw_error[i])\n",
    "        #result[2,i]= np.mean(raw_disturb[i])\n",
    "        result[1,i]= np.std(raw_error[i],ddof=1)\n",
    "        result[3,i]= np.std(raw_disturb[i],ddof=1)\n",
    "        i += 1\n",
    "    return result"
   ]
  },
  {
   "cell_type": "code",
   "execution_count": 19,
   "id": "a5266d41-7279-4d3e-9ae0-a593b2c012d6",
   "metadata": {},
   "outputs": [],
   "source": [
    "def measurement_strength_range_plot(sim_result, points):\n",
    "    E=np.linspace(0,1,1001)\n",
    "    plt.figure(figsize=(15,10))\n",
    "   \n",
    "    strength1 = np.linspace(0.0,1.0,11)\n",
    "    strength2 = np.linspace(0.0,1.0,points)\n",
    "\n",
    "    plt.plot(E,np.sqrt(2*(1-E)),color='#0000de',lw=3,label='Theoretical error')\n",
    "    plt.plot(E,np.sqrt(2*(1-np.sin(np.arccos(E)))),color='#de0000',lw=3,label='Theoretical disturbance')\n",
    "\n",
    "#    plt.errorbar(strength1, exp_result[0], yerr=exp_result[1], elinewidth=1 ,color=\"b\",fmt=\"^\",ms=15,mec=\"b\",capsize=5,capthick=2,label='Experiment error')\n",
    "#    plt.errorbar(strength1, exp_result[2], yerr=exp_result[3], elinewidth=1 ,color=\"r\",fmt=\"d\",ms=17,mec=\"r\",capsize=5,capthick=2,label='Experiment disturbance')\n",
    "\n",
    "    plt.plot(strength2, sim_result[0], lw=3, ls=\"--\" ,color=\"g\",label='Simulated error')\n",
    "    plt.plot(strength2, sim_result[2], lw=3, ls=\"--\" ,color=\"purple\",label='Simulated disturbance')\n",
    "\n",
    "#    plt.errorbar(endata[0],endata[1], yerr=endata[3], elinewidth=1 ,color=\"g\",fmt=\"^\",ms=15,mec=\"g\",capsize=5,capthick=2,label='Optical error')\n",
    "#    plt.errorbar(endata[0],endata[2], yerr=endata[4], elinewidth=1 ,color=\"purple\",fmt=\"d\",ms=17,mec=\"purple\",capsize=5,capthick=2,label='Optical disturbance')\n",
    "\n",
    "    order = [2,0,3,1]\n",
    "    handles, labels = plt.gca().get_legend_handles_labels()\n",
    "    #add legend to plot\n",
    "    plt.legend([handles[idx] for idx in order],[labels[idx] for idx in order],bbox_to_anchor=(0.87,-0.17),loc='upper right',fontsize=22,ncol=2) \n",
    "    plt.legend(bbox_to_anchor=(0.97,-0.17),loc='upper right',fontsize=22,ncol=2)\n",
    "    plt.xlabel(\"Measurement Strength (cos ${\\\\theta}$)\",size=32,labelpad=24)\n",
    "    plt.ylabel(\"Error and Disturbance\",size=32,labelpad=18)\n",
    "    plt.tick_params(labelsize=32)\n",
    "    plt.grid(True)\n",
    "    plt.show()\n"
   ]
  },
  {
   "cell_type": "code",
   "execution_count": 20,
   "id": "33d6b171-911a-4d33-ac2c-165a7b372615",
   "metadata": {},
   "outputs": [],
   "source": [
    "def forbidden_zone_plot(sim_result):\n",
    "    plt.figure(figsize=(15,15))\n",
    "\n",
    "    b = np.linspace(0.5,1.8,1000)\n",
    "    c = np.linspace(0.001,1,1000)\n",
    "\n",
    "\n",
    "    plt.errorbar(sim_result[0],sim_result[2], xerr=sim_result[1],yerr=sim_result[3], elinewidth=2 ,color=\"black\",capsize=5,capthick=2,fmt=\"o\",ms=12,mec=\"b\")\n",
    "\n",
    "    x = np.linspace(-2, 2, 1000)\n",
    "\n",
    "    x = np.linspace(-2, 2, 1000)\n",
    "    y = np.linspace(-2, 2, 1000)\n",
    "    X, Y = np.meshgrid(x, y)\n",
    "\n",
    "\n",
    "    Z = np.sqrt((X**2 - X**4/4) + (Y**2 - Y**4/4))\n",
    "\n",
    "\n",
    "    plt.contourf(X, Y, Z, levels=[1, Z.max()], colors='y', alpha=0.22)\n",
    "\n",
    "\n",
    "    plt.contour(X, Y, Z, levels=[1], colors='blue',linewidths=4,linestyles=\"--\")\n",
    "    plt.plot(c,(1-c)/(1+c),lw=4,color=\"black\")\n",
    "\n",
    "    plt.plot(b,1/b,lw=4,color=\"purple\")\n",
    "\n",
    "    plt.plot(c,np.sqrt(1-c*c),lw=4,color=\"r\")\n",
    "\n",
    "\n",
    "\n",
    "    plt.fill_between(c,(1-c)/(1+c),color=\"gray\",alpha=0.3)\n",
    "    plt.fill_between(c,(1-c)/(1+c),np.sqrt(1-c*c),color=\"b\",alpha=0.3)\n",
    "    plt.fill_between(b,1/b,999,color=\"w\",alpha=1)\n",
    "    plt.fill_between(b,1/b,999,color=\"g\",alpha=0.4)\n",
    "    plt.xlim(0,1.6)\n",
    "    plt.ylim(0,1.6)\n",
    "\n",
    "    #plt.legend(bbox_to_anchor=(0.97,-0.12),loc='upper right',fontsize=22,ncol=2)\n",
    "    plt.xlabel(\"Error\",size=32)\n",
    "    plt.ylabel(\"Disturbance\",size=32)\n",
    "    plt.tick_params(labelsize=32)\n",
    "    plt.show()"
   ]
  },
  {
   "cell_type": "code",
   "execution_count": 21,
   "id": "16d3f163",
   "metadata": {},
   "outputs": [],
   "source": [
    "endata = np.array([[1, 0.286356421, 1.393197761, 0.10687, 0.01384],\n",
    "          [0.985, 0.360555128, 1.286468033, 0.07454, 0.01746],\n",
    "          [0.94, 0.498998998, 1.170042734, 0.05173, 0.02122],\n",
    "          [0.866, 0.68556546, 1.069579357, 0.03524, 0.02645],\n",
    "          [0.766, 0.80684571, 0.908845421, 0.02983, 0.02114],\n",
    "          [0.643, 0.927900857, 0.797496081, 0.0284, 0.02203],\n",
    "          [0.5, 1.105893304, 0.628490254, 0.03243, 0.04083],\n",
    "          [0.342, 1.221474519, 0.559464029, 0.01564, 0.05626],\n",
    "          [0.174, 1.354252561, 0.46151923, 0.0143, 0.05765],\n",
    "          [0, 1.439791652, 0.354964787, 0.02433, 0.06816]])\n",
    "endata = endata.transpose()\n",
    "exp_result = np.array([[1.41552695,1.36435836,1.28781354,1.20447702,1.16895506,1.06177519,\n",
    "                      1.01689894,0.88108358,0.74446709,0.68535111,0.56322395],\n",
    "                        [0.01512828,0.03275893,0.03075678,0.02201124,0.0278425, 0.05022082,\n",
    "                      0.05120571,0.06349935,0.07895512,0.10610931,0.13539114],\n",
    "                        [0.65089794,0.58770411,0.61701889,0.70274453,0.71313554,0.78121456,\n",
    "                      0.86118775,0.93261966,1.02441124,1.09042051,1.34376592],\n",
    "                        [0.08422546,0.08669819,0.08041575,0.09286758,0.07725798,0.06533498,\n",
    "                      0.06205029,0.0433318, 0.05103344,0.05436436,0.04136799]])"
   ]
  },
  {
   "cell_type": "code",
   "execution_count": 36,
   "id": "03a1aba2-b967-4eb8-9988-78f5cf6b8eb5",
   "metadata": {},
   "outputs": [
    {
     "name": "stderr",
     "output_type": "stream",
     "text": [
      "WARNING: quantum error already exists for instruction \"sx\" on qubits (0,) , appending additional error.\n",
      "WARNING: quantum error already exists for instruction \"x\" on qubits (0,) , appending additional error.\n",
      "WARNING: quantum error already exists for instruction \"id\" on qubits (0,) , appending additional error.\n",
      "WARNING: quantum error already exists for instruction \"sx\" on qubits (1,) , appending additional error.\n",
      "WARNING: quantum error already exists for instruction \"x\" on qubits (1,) , appending additional error.\n",
      "WARNING: quantum error already exists for instruction \"id\" on qubits (1,) , appending additional error.\n",
      "WARNING: quantum error already exists for instruction \"sx\" on qubits (2,) , appending additional error.\n",
      "WARNING: quantum error already exists for instruction \"x\" on qubits (2,) , appending additional error.\n",
      "WARNING: quantum error already exists for instruction \"id\" on qubits (2,) , appending additional error.\n",
      "WARNING: quantum error already exists for instruction \"sx\" on qubits (3,) , appending additional error.\n",
      "WARNING: quantum error already exists for instruction \"x\" on qubits (3,) , appending additional error.\n",
      "WARNING: quantum error already exists for instruction \"id\" on qubits (3,) , appending additional error.\n",
      "WARNING: quantum error already exists for instruction \"sx\" on qubits (4,) , appending additional error.\n",
      "WARNING: quantum error already exists for instruction \"x\" on qubits (4,) , appending additional error.\n",
      "WARNING: quantum error already exists for instruction \"id\" on qubits (4,) , appending additional error.\n",
      "WARNING: quantum error already exists for instruction \"sx\" on qubits (5,) , appending additional error.\n",
      "WARNING: quantum error already exists for instruction \"x\" on qubits (5,) , appending additional error.\n",
      "WARNING: quantum error already exists for instruction \"id\" on qubits (5,) , appending additional error.\n",
      "WARNING: quantum error already exists for instruction \"sx\" on qubits (6,) , appending additional error.\n",
      "WARNING: quantum error already exists for instruction \"x\" on qubits (6,) , appending additional error.\n",
      "WARNING: quantum error already exists for instruction \"id\" on qubits (6,) , appending additional error.\n"
     ]
    }
   ],
   "source": [
    "shots = 10000\n",
    "probe_strength = 0.1\n",
    "groups = 10\n",
    "backend = fakebackend\n",
    "points = 11\n",
    "\n",
    "circs = circmake(probe_strength,groups,points,backend)\n",
    "\n",
    "qsimbackend = qiskit_aer.AerSimulator(method='density_matrix')\n",
    "\n",
    "noise_model_list = [qiskit_aer.noise.NoiseModel.from_backend(fakebackend,temperature=50)]\n",
    "\n",
    "qnoise_model = qiskit_aer.noise.NoiseModel.from_backend(fakebackend,temperature=50)\n",
    "error_1 = qiskit_aer.noise.phase_amplitude_damping_error(0.01, 0.0001)\n",
    "for n in range(0,7):\n",
    "    qnoise_model.add_quantum_error(error_1, ['sx', 'x',\"id\"], [n])\n",
    "\n",
    "\n",
    "sim_job = fakebackend.run(circs, noise_model = qnoise_model ,shots=shots).result()"
   ]
  },
  {
   "cell_type": "code",
   "execution_count": 35,
   "id": "634eda18",
   "metadata": {},
   "outputs": [
    {
     "name": "stderr",
     "output_type": "stream",
     "text": [
      "WARNING: quantum error already exists for instruction \"sx\" on qubits (1,) , appending additional error.\n",
      "WARNING: quantum error already exists for instruction \"x\" on qubits (1,) , appending additional error.\n",
      "WARNING: quantum error already exists for instruction \"id\" on qubits (1,) , appending additional error.\n"
     ]
    }
   ],
   "source": [
    "qnoise_model = qiskit_aer.noise.NoiseModel.from_backend(fakebackend,temperature=50)\n",
    "error_1 = qiskit_aer.noise.phase_amplitude_damping_error(0.01, 0.01)\n",
    "qnoise_model.add_quantum_error(error_1, ['sx', 'x',\"id\"], [1])\n",
    "sim_job = fakebackend.run(circs, noise_model = qnoise_model ,shots=shots).result()"
   ]
  },
  {
   "cell_type": "code",
   "execution_count": 25,
   "id": "37d6d718-df7f-4512-8af4-d1dad85f3040",
   "metadata": {},
   "outputs": [],
   "source": [
    "shots = 10000\n",
    "probe_strength = 0.1\n",
    "groups = 10\n",
    "backend = fakebackend\n",
    "points = 11\n",
    "\n",
    "circs = circmake(probe_strength,groups,points,backend)\n",
    "sim_job = fakebackend.run(circs, noise_model = qnoise_model ,shots=shots).result()"
   ]
  },
  {
   "cell_type": "code",
   "execution_count": null,
   "id": "46e86fd7",
   "metadata": {},
   "outputs": [],
   "source": [
    "circs = circmake(probe_strength,groups)\n",
    "sim_job= csimbackend.run(circs,shots=shots).result()\n",
    "raw_error,raw_disturb = get_ed(sim_job)\n",
    "sim_result = get_plot_data(raw_error,raw_disturb)"
   ]
  },
  {
   "cell_type": "code",
   "execution_count": null,
   "id": "d7ba6666-a7a6-4e43-a41f-569ef0d20ab0",
   "metadata": {},
   "outputs": [],
   "source": [
    "measurement_strength_plot(sim_result)"
   ]
  },
  {
   "cell_type": "code",
   "execution_count": null,
   "id": "b6cb81cd-1d9c-4637-8dbb-ae5b706f0fce",
   "metadata": {},
   "outputs": [],
   "source": [
    "forbidden_zone_plot(sim_result)"
   ]
  },
  {
   "cell_type": "code",
   "execution_count": null,
   "id": "4d48f755-cecc-458e-9b27-013e3d07a4f4",
   "metadata": {},
   "outputs": [],
   "source": []
  }
 ],
 "metadata": {
  "kernelspec": {
   "display_name": "Python 3 (ipykernel)",
   "language": "python",
   "name": "python3"
  },
  "language_info": {
   "codemirror_mode": {
    "name": "ipython",
    "version": 3
   },
   "file_extension": ".py",
   "mimetype": "text/x-python",
   "name": "python",
   "nbconvert_exporter": "python",
   "pygments_lexer": "ipython3",
   "version": "3.12.4"
  }
 },
 "nbformat": 4,
 "nbformat_minor": 5
}
